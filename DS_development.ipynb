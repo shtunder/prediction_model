{
  "nbformat": 4,
  "nbformat_minor": 0,
  "metadata": {
    "colab": {
      "name": "DS_development.ipynb",
      "provenance": [],
      "collapsed_sections": [
        "FgAzxMLOcdCn",
        "6ufmsXWkJjCM"
      ]
    },
    "kernelspec": {
      "name": "python3",
      "display_name": "Python 3"
    },
    "language_info": {
      "name": "python"
    },
    "widgets": {
      "application/vnd.jupyter.widget-state+json": {
        "1cb0e4025b464cc48267b8d0d187e426": {
          "model_module": "@jupyter-widgets/controls",
          "model_name": "HBoxModel",
          "state": {
            "_view_name": "HBoxView",
            "_dom_classes": [],
            "_model_name": "HBoxModel",
            "_view_module": "@jupyter-widgets/controls",
            "_model_module_version": "1.5.0",
            "_view_count": null,
            "_view_module_version": "1.5.0",
            "box_style": "",
            "layout": "IPY_MODEL_57fd3faa995d4198b3547f412ce37712",
            "_model_module": "@jupyter-widgets/controls",
            "children": [
              "IPY_MODEL_892aaac791e64223adfc8d8fdba3eba2",
              "IPY_MODEL_07a469bf815744589d94914319215b35"
            ]
          }
        },
        "57fd3faa995d4198b3547f412ce37712": {
          "model_module": "@jupyter-widgets/base",
          "model_name": "LayoutModel",
          "state": {
            "_view_name": "LayoutView",
            "grid_template_rows": null,
            "right": null,
            "justify_content": null,
            "_view_module": "@jupyter-widgets/base",
            "overflow": null,
            "_model_module_version": "1.2.0",
            "_view_count": null,
            "flex_flow": null,
            "width": null,
            "min_width": null,
            "border": null,
            "align_items": null,
            "bottom": null,
            "_model_module": "@jupyter-widgets/base",
            "top": null,
            "grid_column": null,
            "overflow_y": null,
            "overflow_x": null,
            "grid_auto_flow": null,
            "grid_area": null,
            "grid_template_columns": null,
            "flex": null,
            "_model_name": "LayoutModel",
            "justify_items": null,
            "grid_row": null,
            "max_height": null,
            "align_content": null,
            "visibility": null,
            "align_self": null,
            "height": null,
            "min_height": null,
            "padding": null,
            "grid_auto_rows": null,
            "grid_gap": null,
            "max_width": null,
            "order": null,
            "_view_module_version": "1.2.0",
            "grid_template_areas": null,
            "object_position": null,
            "object_fit": null,
            "grid_auto_columns": null,
            "margin": null,
            "display": null,
            "left": null
          }
        },
        "892aaac791e64223adfc8d8fdba3eba2": {
          "model_module": "@jupyter-widgets/controls",
          "model_name": "FloatProgressModel",
          "state": {
            "_view_name": "ProgressView",
            "style": "IPY_MODEL_d18db474f07d494d8d5eb0c84c3fa96f",
            "_dom_classes": [],
            "description": "100%",
            "_model_name": "FloatProgressModel",
            "bar_style": "success",
            "max": 33308,
            "_view_module": "@jupyter-widgets/controls",
            "_model_module_version": "1.5.0",
            "value": 33308,
            "_view_count": null,
            "_view_module_version": "1.5.0",
            "orientation": "horizontal",
            "min": 0,
            "description_tooltip": null,
            "_model_module": "@jupyter-widgets/controls",
            "layout": "IPY_MODEL_1893c41e5c2944a8a57a624ba92bdd45"
          }
        },
        "07a469bf815744589d94914319215b35": {
          "model_module": "@jupyter-widgets/controls",
          "model_name": "HTMLModel",
          "state": {
            "_view_name": "HTMLView",
            "style": "IPY_MODEL_588bac3519404c2f954a7e0cde2dbaf9",
            "_dom_classes": [],
            "description": "",
            "_model_name": "HTMLModel",
            "placeholder": "​",
            "_view_module": "@jupyter-widgets/controls",
            "_model_module_version": "1.5.0",
            "value": " 33308/33308 [08:42&lt;00:00, 63.77it/s]",
            "_view_count": null,
            "_view_module_version": "1.5.0",
            "description_tooltip": null,
            "_model_module": "@jupyter-widgets/controls",
            "layout": "IPY_MODEL_fc5efdc9f93d4cbd834fcb6b4997834f"
          }
        },
        "d18db474f07d494d8d5eb0c84c3fa96f": {
          "model_module": "@jupyter-widgets/controls",
          "model_name": "ProgressStyleModel",
          "state": {
            "_view_name": "StyleView",
            "_model_name": "ProgressStyleModel",
            "description_width": "initial",
            "_view_module": "@jupyter-widgets/base",
            "_model_module_version": "1.5.0",
            "_view_count": null,
            "_view_module_version": "1.2.0",
            "bar_color": null,
            "_model_module": "@jupyter-widgets/controls"
          }
        },
        "1893c41e5c2944a8a57a624ba92bdd45": {
          "model_module": "@jupyter-widgets/base",
          "model_name": "LayoutModel",
          "state": {
            "_view_name": "LayoutView",
            "grid_template_rows": null,
            "right": null,
            "justify_content": null,
            "_view_module": "@jupyter-widgets/base",
            "overflow": null,
            "_model_module_version": "1.2.0",
            "_view_count": null,
            "flex_flow": null,
            "width": null,
            "min_width": null,
            "border": null,
            "align_items": null,
            "bottom": null,
            "_model_module": "@jupyter-widgets/base",
            "top": null,
            "grid_column": null,
            "overflow_y": null,
            "overflow_x": null,
            "grid_auto_flow": null,
            "grid_area": null,
            "grid_template_columns": null,
            "flex": null,
            "_model_name": "LayoutModel",
            "justify_items": null,
            "grid_row": null,
            "max_height": null,
            "align_content": null,
            "visibility": null,
            "align_self": null,
            "height": null,
            "min_height": null,
            "padding": null,
            "grid_auto_rows": null,
            "grid_gap": null,
            "max_width": null,
            "order": null,
            "_view_module_version": "1.2.0",
            "grid_template_areas": null,
            "object_position": null,
            "object_fit": null,
            "grid_auto_columns": null,
            "margin": null,
            "display": null,
            "left": null
          }
        },
        "588bac3519404c2f954a7e0cde2dbaf9": {
          "model_module": "@jupyter-widgets/controls",
          "model_name": "DescriptionStyleModel",
          "state": {
            "_view_name": "StyleView",
            "_model_name": "DescriptionStyleModel",
            "description_width": "",
            "_view_module": "@jupyter-widgets/base",
            "_model_module_version": "1.5.0",
            "_view_count": null,
            "_view_module_version": "1.2.0",
            "_model_module": "@jupyter-widgets/controls"
          }
        },
        "fc5efdc9f93d4cbd834fcb6b4997834f": {
          "model_module": "@jupyter-widgets/base",
          "model_name": "LayoutModel",
          "state": {
            "_view_name": "LayoutView",
            "grid_template_rows": null,
            "right": null,
            "justify_content": null,
            "_view_module": "@jupyter-widgets/base",
            "overflow": null,
            "_model_module_version": "1.2.0",
            "_view_count": null,
            "flex_flow": null,
            "width": null,
            "min_width": null,
            "border": null,
            "align_items": null,
            "bottom": null,
            "_model_module": "@jupyter-widgets/base",
            "top": null,
            "grid_column": null,
            "overflow_y": null,
            "overflow_x": null,
            "grid_auto_flow": null,
            "grid_area": null,
            "grid_template_columns": null,
            "flex": null,
            "_model_name": "LayoutModel",
            "justify_items": null,
            "grid_row": null,
            "max_height": null,
            "align_content": null,
            "visibility": null,
            "align_self": null,
            "height": null,
            "min_height": null,
            "padding": null,
            "grid_auto_rows": null,
            "grid_gap": null,
            "max_width": null,
            "order": null,
            "_view_module_version": "1.2.0",
            "grid_template_areas": null,
            "object_position": null,
            "object_fit": null,
            "grid_auto_columns": null,
            "margin": null,
            "display": null,
            "left": null
          }
        },
        "6203f0df136c44f7a81c77458194d4e4": {
          "model_module": "@jupyter-widgets/controls",
          "model_name": "HBoxModel",
          "state": {
            "_view_name": "HBoxView",
            "_dom_classes": [],
            "_model_name": "HBoxModel",
            "_view_module": "@jupyter-widgets/controls",
            "_model_module_version": "1.5.0",
            "_view_count": null,
            "_view_module_version": "1.5.0",
            "box_style": "",
            "layout": "IPY_MODEL_fdcade5251a245e38006546e3b12e77b",
            "_model_module": "@jupyter-widgets/controls",
            "children": [
              "IPY_MODEL_9726b434514a408d914414ee16ce5e2a",
              "IPY_MODEL_b8466a2bf25b489b8677a7eb365736bb"
            ]
          }
        },
        "fdcade5251a245e38006546e3b12e77b": {
          "model_module": "@jupyter-widgets/base",
          "model_name": "LayoutModel",
          "state": {
            "_view_name": "LayoutView",
            "grid_template_rows": null,
            "right": null,
            "justify_content": null,
            "_view_module": "@jupyter-widgets/base",
            "overflow": null,
            "_model_module_version": "1.2.0",
            "_view_count": null,
            "flex_flow": null,
            "width": null,
            "min_width": null,
            "border": null,
            "align_items": null,
            "bottom": null,
            "_model_module": "@jupyter-widgets/base",
            "top": null,
            "grid_column": null,
            "overflow_y": null,
            "overflow_x": null,
            "grid_auto_flow": null,
            "grid_area": null,
            "grid_template_columns": null,
            "flex": null,
            "_model_name": "LayoutModel",
            "justify_items": null,
            "grid_row": null,
            "max_height": null,
            "align_content": null,
            "visibility": null,
            "align_self": null,
            "height": null,
            "min_height": null,
            "padding": null,
            "grid_auto_rows": null,
            "grid_gap": null,
            "max_width": null,
            "order": null,
            "_view_module_version": "1.2.0",
            "grid_template_areas": null,
            "object_position": null,
            "object_fit": null,
            "grid_auto_columns": null,
            "margin": null,
            "display": null,
            "left": null
          }
        },
        "9726b434514a408d914414ee16ce5e2a": {
          "model_module": "@jupyter-widgets/controls",
          "model_name": "FloatProgressModel",
          "state": {
            "_view_name": "ProgressView",
            "style": "IPY_MODEL_1554f32dcc9c4044ad606062fa7fd8b0",
            "_dom_classes": [],
            "description": "100%",
            "_model_name": "FloatProgressModel",
            "bar_style": "success",
            "max": 63033,
            "_view_module": "@jupyter-widgets/controls",
            "_model_module_version": "1.5.0",
            "value": 63033,
            "_view_count": null,
            "_view_module_version": "1.5.0",
            "orientation": "horizontal",
            "min": 0,
            "description_tooltip": null,
            "_model_module": "@jupyter-widgets/controls",
            "layout": "IPY_MODEL_ec9e1d5d143d4cd2a2a1bed8f20be1ea"
          }
        },
        "b8466a2bf25b489b8677a7eb365736bb": {
          "model_module": "@jupyter-widgets/controls",
          "model_name": "HTMLModel",
          "state": {
            "_view_name": "HTMLView",
            "style": "IPY_MODEL_48d7b9225719440daa61847fe5afb44f",
            "_dom_classes": [],
            "description": "",
            "_model_name": "HTMLModel",
            "placeholder": "​",
            "_view_module": "@jupyter-widgets/controls",
            "_model_module_version": "1.5.0",
            "value": " 63033/63033 [00:03&lt;00:00, 16816.13it/s]",
            "_view_count": null,
            "_view_module_version": "1.5.0",
            "description_tooltip": null,
            "_model_module": "@jupyter-widgets/controls",
            "layout": "IPY_MODEL_8be3379110c04c2496fa38d412a9ccb3"
          }
        },
        "1554f32dcc9c4044ad606062fa7fd8b0": {
          "model_module": "@jupyter-widgets/controls",
          "model_name": "ProgressStyleModel",
          "state": {
            "_view_name": "StyleView",
            "_model_name": "ProgressStyleModel",
            "description_width": "initial",
            "_view_module": "@jupyter-widgets/base",
            "_model_module_version": "1.5.0",
            "_view_count": null,
            "_view_module_version": "1.2.0",
            "bar_color": null,
            "_model_module": "@jupyter-widgets/controls"
          }
        },
        "ec9e1d5d143d4cd2a2a1bed8f20be1ea": {
          "model_module": "@jupyter-widgets/base",
          "model_name": "LayoutModel",
          "state": {
            "_view_name": "LayoutView",
            "grid_template_rows": null,
            "right": null,
            "justify_content": null,
            "_view_module": "@jupyter-widgets/base",
            "overflow": null,
            "_model_module_version": "1.2.0",
            "_view_count": null,
            "flex_flow": null,
            "width": null,
            "min_width": null,
            "border": null,
            "align_items": null,
            "bottom": null,
            "_model_module": "@jupyter-widgets/base",
            "top": null,
            "grid_column": null,
            "overflow_y": null,
            "overflow_x": null,
            "grid_auto_flow": null,
            "grid_area": null,
            "grid_template_columns": null,
            "flex": null,
            "_model_name": "LayoutModel",
            "justify_items": null,
            "grid_row": null,
            "max_height": null,
            "align_content": null,
            "visibility": null,
            "align_self": null,
            "height": null,
            "min_height": null,
            "padding": null,
            "grid_auto_rows": null,
            "grid_gap": null,
            "max_width": null,
            "order": null,
            "_view_module_version": "1.2.0",
            "grid_template_areas": null,
            "object_position": null,
            "object_fit": null,
            "grid_auto_columns": null,
            "margin": null,
            "display": null,
            "left": null
          }
        },
        "48d7b9225719440daa61847fe5afb44f": {
          "model_module": "@jupyter-widgets/controls",
          "model_name": "DescriptionStyleModel",
          "state": {
            "_view_name": "StyleView",
            "_model_name": "DescriptionStyleModel",
            "description_width": "",
            "_view_module": "@jupyter-widgets/base",
            "_model_module_version": "1.5.0",
            "_view_count": null,
            "_view_module_version": "1.2.0",
            "_model_module": "@jupyter-widgets/controls"
          }
        },
        "8be3379110c04c2496fa38d412a9ccb3": {
          "model_module": "@jupyter-widgets/base",
          "model_name": "LayoutModel",
          "state": {
            "_view_name": "LayoutView",
            "grid_template_rows": null,
            "right": null,
            "justify_content": null,
            "_view_module": "@jupyter-widgets/base",
            "overflow": null,
            "_model_module_version": "1.2.0",
            "_view_count": null,
            "flex_flow": null,
            "width": null,
            "min_width": null,
            "border": null,
            "align_items": null,
            "bottom": null,
            "_model_module": "@jupyter-widgets/base",
            "top": null,
            "grid_column": null,
            "overflow_y": null,
            "overflow_x": null,
            "grid_auto_flow": null,
            "grid_area": null,
            "grid_template_columns": null,
            "flex": null,
            "_model_name": "LayoutModel",
            "justify_items": null,
            "grid_row": null,
            "max_height": null,
            "align_content": null,
            "visibility": null,
            "align_self": null,
            "height": null,
            "min_height": null,
            "padding": null,
            "grid_auto_rows": null,
            "grid_gap": null,
            "max_width": null,
            "order": null,
            "_view_module_version": "1.2.0",
            "grid_template_areas": null,
            "object_position": null,
            "object_fit": null,
            "grid_auto_columns": null,
            "margin": null,
            "display": null,
            "left": null
          }
        },
        "f2fccf5861114445a9ef8ed49c9f5ec5": {
          "model_module": "@jupyter-widgets/controls",
          "model_name": "HBoxModel",
          "state": {
            "_view_name": "HBoxView",
            "_dom_classes": [],
            "_model_name": "HBoxModel",
            "_view_module": "@jupyter-widgets/controls",
            "_model_module_version": "1.5.0",
            "_view_count": null,
            "_view_module_version": "1.5.0",
            "box_style": "",
            "layout": "IPY_MODEL_bb5805ac21e140a88924cd18504a8b46",
            "_model_module": "@jupyter-widgets/controls",
            "children": [
              "IPY_MODEL_27c6479dbfb94454a6254490d841abeb",
              "IPY_MODEL_3d5e14006b464c0b8ad5d55732ce2269"
            ]
          }
        },
        "bb5805ac21e140a88924cd18504a8b46": {
          "model_module": "@jupyter-widgets/base",
          "model_name": "LayoutModel",
          "state": {
            "_view_name": "LayoutView",
            "grid_template_rows": null,
            "right": null,
            "justify_content": null,
            "_view_module": "@jupyter-widgets/base",
            "overflow": null,
            "_model_module_version": "1.2.0",
            "_view_count": null,
            "flex_flow": null,
            "width": null,
            "min_width": null,
            "border": null,
            "align_items": null,
            "bottom": null,
            "_model_module": "@jupyter-widgets/base",
            "top": null,
            "grid_column": null,
            "overflow_y": null,
            "overflow_x": null,
            "grid_auto_flow": null,
            "grid_area": null,
            "grid_template_columns": null,
            "flex": null,
            "_model_name": "LayoutModel",
            "justify_items": null,
            "grid_row": null,
            "max_height": null,
            "align_content": null,
            "visibility": null,
            "align_self": null,
            "height": null,
            "min_height": null,
            "padding": null,
            "grid_auto_rows": null,
            "grid_gap": null,
            "max_width": null,
            "order": null,
            "_view_module_version": "1.2.0",
            "grid_template_areas": null,
            "object_position": null,
            "object_fit": null,
            "grid_auto_columns": null,
            "margin": null,
            "display": null,
            "left": null
          }
        },
        "27c6479dbfb94454a6254490d841abeb": {
          "model_module": "@jupyter-widgets/controls",
          "model_name": "FloatProgressModel",
          "state": {
            "_view_name": "ProgressView",
            "style": "IPY_MODEL_3d5b758e6a7443ae8d507c64167d077a",
            "_dom_classes": [],
            "description": "100%",
            "_model_name": "FloatProgressModel",
            "bar_style": "success",
            "max": 42480,
            "_view_module": "@jupyter-widgets/controls",
            "_model_module_version": "1.5.0",
            "value": 42480,
            "_view_count": null,
            "_view_module_version": "1.5.0",
            "orientation": "horizontal",
            "min": 0,
            "description_tooltip": null,
            "_model_module": "@jupyter-widgets/controls",
            "layout": "IPY_MODEL_aac8667272cc471d96aefa42af7a8b59"
          }
        },
        "3d5e14006b464c0b8ad5d55732ce2269": {
          "model_module": "@jupyter-widgets/controls",
          "model_name": "HTMLModel",
          "state": {
            "_view_name": "HTMLView",
            "style": "IPY_MODEL_93f2e87438f64bdb92098f9857b76b99",
            "_dom_classes": [],
            "description": "",
            "_model_name": "HTMLModel",
            "placeholder": "​",
            "_view_module": "@jupyter-widgets/controls",
            "_model_module_version": "1.5.0",
            "value": " 42480/42480 [13:05&lt;00:00, 54.10it/s]",
            "_view_count": null,
            "_view_module_version": "1.5.0",
            "description_tooltip": null,
            "_model_module": "@jupyter-widgets/controls",
            "layout": "IPY_MODEL_397286dd0df14a64b4eb063f8c321379"
          }
        },
        "3d5b758e6a7443ae8d507c64167d077a": {
          "model_module": "@jupyter-widgets/controls",
          "model_name": "ProgressStyleModel",
          "state": {
            "_view_name": "StyleView",
            "_model_name": "ProgressStyleModel",
            "description_width": "initial",
            "_view_module": "@jupyter-widgets/base",
            "_model_module_version": "1.5.0",
            "_view_count": null,
            "_view_module_version": "1.2.0",
            "bar_color": null,
            "_model_module": "@jupyter-widgets/controls"
          }
        },
        "aac8667272cc471d96aefa42af7a8b59": {
          "model_module": "@jupyter-widgets/base",
          "model_name": "LayoutModel",
          "state": {
            "_view_name": "LayoutView",
            "grid_template_rows": null,
            "right": null,
            "justify_content": null,
            "_view_module": "@jupyter-widgets/base",
            "overflow": null,
            "_model_module_version": "1.2.0",
            "_view_count": null,
            "flex_flow": null,
            "width": null,
            "min_width": null,
            "border": null,
            "align_items": null,
            "bottom": null,
            "_model_module": "@jupyter-widgets/base",
            "top": null,
            "grid_column": null,
            "overflow_y": null,
            "overflow_x": null,
            "grid_auto_flow": null,
            "grid_area": null,
            "grid_template_columns": null,
            "flex": null,
            "_model_name": "LayoutModel",
            "justify_items": null,
            "grid_row": null,
            "max_height": null,
            "align_content": null,
            "visibility": null,
            "align_self": null,
            "height": null,
            "min_height": null,
            "padding": null,
            "grid_auto_rows": null,
            "grid_gap": null,
            "max_width": null,
            "order": null,
            "_view_module_version": "1.2.0",
            "grid_template_areas": null,
            "object_position": null,
            "object_fit": null,
            "grid_auto_columns": null,
            "margin": null,
            "display": null,
            "left": null
          }
        },
        "93f2e87438f64bdb92098f9857b76b99": {
          "model_module": "@jupyter-widgets/controls",
          "model_name": "DescriptionStyleModel",
          "state": {
            "_view_name": "StyleView",
            "_model_name": "DescriptionStyleModel",
            "description_width": "",
            "_view_module": "@jupyter-widgets/base",
            "_model_module_version": "1.5.0",
            "_view_count": null,
            "_view_module_version": "1.2.0",
            "_model_module": "@jupyter-widgets/controls"
          }
        },
        "397286dd0df14a64b4eb063f8c321379": {
          "model_module": "@jupyter-widgets/base",
          "model_name": "LayoutModel",
          "state": {
            "_view_name": "LayoutView",
            "grid_template_rows": null,
            "right": null,
            "justify_content": null,
            "_view_module": "@jupyter-widgets/base",
            "overflow": null,
            "_model_module_version": "1.2.0",
            "_view_count": null,
            "flex_flow": null,
            "width": null,
            "min_width": null,
            "border": null,
            "align_items": null,
            "bottom": null,
            "_model_module": "@jupyter-widgets/base",
            "top": null,
            "grid_column": null,
            "overflow_y": null,
            "overflow_x": null,
            "grid_auto_flow": null,
            "grid_area": null,
            "grid_template_columns": null,
            "flex": null,
            "_model_name": "LayoutModel",
            "justify_items": null,
            "grid_row": null,
            "max_height": null,
            "align_content": null,
            "visibility": null,
            "align_self": null,
            "height": null,
            "min_height": null,
            "padding": null,
            "grid_auto_rows": null,
            "grid_gap": null,
            "max_width": null,
            "order": null,
            "_view_module_version": "1.2.0",
            "grid_template_areas": null,
            "object_position": null,
            "object_fit": null,
            "grid_auto_columns": null,
            "margin": null,
            "display": null,
            "left": null
          }
        },
        "55920b0f14de4239900d1a4c2a82da66": {
          "model_module": "@jupyter-widgets/controls",
          "model_name": "HBoxModel",
          "state": {
            "_view_name": "HBoxView",
            "_dom_classes": [],
            "_model_name": "HBoxModel",
            "_view_module": "@jupyter-widgets/controls",
            "_model_module_version": "1.5.0",
            "_view_count": null,
            "_view_module_version": "1.5.0",
            "box_style": "",
            "layout": "IPY_MODEL_db80488850bb4cd4a5384a14a9068563",
            "_model_module": "@jupyter-widgets/controls",
            "children": [
              "IPY_MODEL_9e4199b27b634ff086005eaba5db116c",
              "IPY_MODEL_b84673ae0c0b47f78375314bf689e5b1"
            ]
          }
        },
        "db80488850bb4cd4a5384a14a9068563": {
          "model_module": "@jupyter-widgets/base",
          "model_name": "LayoutModel",
          "state": {
            "_view_name": "LayoutView",
            "grid_template_rows": null,
            "right": null,
            "justify_content": null,
            "_view_module": "@jupyter-widgets/base",
            "overflow": null,
            "_model_module_version": "1.2.0",
            "_view_count": null,
            "flex_flow": null,
            "width": null,
            "min_width": null,
            "border": null,
            "align_items": null,
            "bottom": null,
            "_model_module": "@jupyter-widgets/base",
            "top": null,
            "grid_column": null,
            "overflow_y": null,
            "overflow_x": null,
            "grid_auto_flow": null,
            "grid_area": null,
            "grid_template_columns": null,
            "flex": null,
            "_model_name": "LayoutModel",
            "justify_items": null,
            "grid_row": null,
            "max_height": null,
            "align_content": null,
            "visibility": null,
            "align_self": null,
            "height": null,
            "min_height": null,
            "padding": null,
            "grid_auto_rows": null,
            "grid_gap": null,
            "max_width": null,
            "order": null,
            "_view_module_version": "1.2.0",
            "grid_template_areas": null,
            "object_position": null,
            "object_fit": null,
            "grid_auto_columns": null,
            "margin": null,
            "display": null,
            "left": null
          }
        },
        "9e4199b27b634ff086005eaba5db116c": {
          "model_module": "@jupyter-widgets/controls",
          "model_name": "FloatProgressModel",
          "state": {
            "_view_name": "ProgressView",
            "style": "IPY_MODEL_19dab72efeda4bbfbc5b3548d78cae1a",
            "_dom_classes": [],
            "description": "100%",
            "_model_name": "FloatProgressModel",
            "bar_style": "success",
            "max": 43596,
            "_view_module": "@jupyter-widgets/controls",
            "_model_module_version": "1.5.0",
            "value": 43596,
            "_view_count": null,
            "_view_module_version": "1.5.0",
            "orientation": "horizontal",
            "min": 0,
            "description_tooltip": null,
            "_model_module": "@jupyter-widgets/controls",
            "layout": "IPY_MODEL_b2c668c3bbe94a3eb847f50f9561ac29"
          }
        },
        "b84673ae0c0b47f78375314bf689e5b1": {
          "model_module": "@jupyter-widgets/controls",
          "model_name": "HTMLModel",
          "state": {
            "_view_name": "HTMLView",
            "style": "IPY_MODEL_fbdfb4b0e4074eac9ed4009563e05ab4",
            "_dom_classes": [],
            "description": "",
            "_model_name": "HTMLModel",
            "placeholder": "​",
            "_view_module": "@jupyter-widgets/controls",
            "_model_module_version": "1.5.0",
            "value": " 43596/43596 [00:02&lt;00:00, 18637.98it/s]",
            "_view_count": null,
            "_view_module_version": "1.5.0",
            "description_tooltip": null,
            "_model_module": "@jupyter-widgets/controls",
            "layout": "IPY_MODEL_380dc4df5e0d4920b2e439e84400ccc2"
          }
        },
        "19dab72efeda4bbfbc5b3548d78cae1a": {
          "model_module": "@jupyter-widgets/controls",
          "model_name": "ProgressStyleModel",
          "state": {
            "_view_name": "StyleView",
            "_model_name": "ProgressStyleModel",
            "description_width": "initial",
            "_view_module": "@jupyter-widgets/base",
            "_model_module_version": "1.5.0",
            "_view_count": null,
            "_view_module_version": "1.2.0",
            "bar_color": null,
            "_model_module": "@jupyter-widgets/controls"
          }
        },
        "b2c668c3bbe94a3eb847f50f9561ac29": {
          "model_module": "@jupyter-widgets/base",
          "model_name": "LayoutModel",
          "state": {
            "_view_name": "LayoutView",
            "grid_template_rows": null,
            "right": null,
            "justify_content": null,
            "_view_module": "@jupyter-widgets/base",
            "overflow": null,
            "_model_module_version": "1.2.0",
            "_view_count": null,
            "flex_flow": null,
            "width": null,
            "min_width": null,
            "border": null,
            "align_items": null,
            "bottom": null,
            "_model_module": "@jupyter-widgets/base",
            "top": null,
            "grid_column": null,
            "overflow_y": null,
            "overflow_x": null,
            "grid_auto_flow": null,
            "grid_area": null,
            "grid_template_columns": null,
            "flex": null,
            "_model_name": "LayoutModel",
            "justify_items": null,
            "grid_row": null,
            "max_height": null,
            "align_content": null,
            "visibility": null,
            "align_self": null,
            "height": null,
            "min_height": null,
            "padding": null,
            "grid_auto_rows": null,
            "grid_gap": null,
            "max_width": null,
            "order": null,
            "_view_module_version": "1.2.0",
            "grid_template_areas": null,
            "object_position": null,
            "object_fit": null,
            "grid_auto_columns": null,
            "margin": null,
            "display": null,
            "left": null
          }
        },
        "fbdfb4b0e4074eac9ed4009563e05ab4": {
          "model_module": "@jupyter-widgets/controls",
          "model_name": "DescriptionStyleModel",
          "state": {
            "_view_name": "StyleView",
            "_model_name": "DescriptionStyleModel",
            "description_width": "",
            "_view_module": "@jupyter-widgets/base",
            "_model_module_version": "1.5.0",
            "_view_count": null,
            "_view_module_version": "1.2.0",
            "_model_module": "@jupyter-widgets/controls"
          }
        },
        "380dc4df5e0d4920b2e439e84400ccc2": {
          "model_module": "@jupyter-widgets/base",
          "model_name": "LayoutModel",
          "state": {
            "_view_name": "LayoutView",
            "grid_template_rows": null,
            "right": null,
            "justify_content": null,
            "_view_module": "@jupyter-widgets/base",
            "overflow": null,
            "_model_module_version": "1.2.0",
            "_view_count": null,
            "flex_flow": null,
            "width": null,
            "min_width": null,
            "border": null,
            "align_items": null,
            "bottom": null,
            "_model_module": "@jupyter-widgets/base",
            "top": null,
            "grid_column": null,
            "overflow_y": null,
            "overflow_x": null,
            "grid_auto_flow": null,
            "grid_area": null,
            "grid_template_columns": null,
            "flex": null,
            "_model_name": "LayoutModel",
            "justify_items": null,
            "grid_row": null,
            "max_height": null,
            "align_content": null,
            "visibility": null,
            "align_self": null,
            "height": null,
            "min_height": null,
            "padding": null,
            "grid_auto_rows": null,
            "grid_gap": null,
            "max_width": null,
            "order": null,
            "_view_module_version": "1.2.0",
            "grid_template_areas": null,
            "object_position": null,
            "object_fit": null,
            "grid_auto_columns": null,
            "margin": null,
            "display": null,
            "left": null
          }
        }
      }
    }
  },
  "cells": [
    {
      "cell_type": "markdown",
      "metadata": {
        "id": "2qQLVNEjcotJ"
      },
      "source": [
        "# Imports"
      ]
    },
    {
      "cell_type": "code",
      "metadata": {
        "id": "syPX1Mef_RAu"
      },
      "source": [
        "!pip install shap"
      ],
      "execution_count": null,
      "outputs": []
    },
    {
      "cell_type": "code",
      "metadata": {
        "id": "h5vaBis7zXD6",
        "colab": {
          "base_uri": "https://localhost:8080/",
          "height": 17
        },
        "outputId": "f51e37a7-6ba8-4916-ec96-1ab046378221"
      },
      "source": [
        "import pandas as pd\n",
        "import numpy as np\n",
        "#import pandahouse as ph\n",
        "from datetime import date\n",
        "\n",
        "from tqdm.auto import tqdm\n",
        "\n",
        "from sklearn.metrics import mean_squared_error, make_scorer, r2_score, mean_absolute_error\n",
        "from sklearn.model_selection import GridSearchCV\n",
        "from xgboost import XGBRegressor\n",
        "from joblib import dump, load\n",
        "\n",
        "import shap\n",
        "\n",
        "import seaborn as sns\n",
        "import matplotlib.pyplot as plt\n",
        "from plotly.offline import download_plotlyjs, init_notebook_mode, plot, iplot\n",
        "import plotly.graph_objs as go\n",
        "init_notebook_mode(connected = True)"
      ],
      "execution_count": 129,
      "outputs": [
        {
          "output_type": "display_data",
          "data": {
            "text/html": [
              "        <script type=\"text/javascript\">\n",
              "        window.PlotlyConfig = {MathJaxConfig: 'local'};\n",
              "        if (window.MathJax) {MathJax.Hub.Config({SVG: {font: \"STIX-Web\"}});}\n",
              "        if (typeof require !== 'undefined') {\n",
              "        require.undef(\"plotly\");\n",
              "        requirejs.config({\n",
              "            paths: {\n",
              "                'plotly': ['https://cdn.plot.ly/plotly-latest.min']\n",
              "            }\n",
              "        });\n",
              "        require(['plotly'], function(Plotly) {\n",
              "            window._Plotly = Plotly;\n",
              "        });\n",
              "        }\n",
              "        </script>\n",
              "        "
            ]
          },
          "metadata": {
            "tags": []
          }
        }
      ]
    },
    {
      "cell_type": "markdown",
      "metadata": {
        "id": "FgAzxMLOcdCn"
      },
      "source": [
        "#Load data. EDA"
      ]
    },
    {
      "cell_type": "code",
      "metadata": {
        "colab": {
          "base_uri": "https://localhost:8080/",
          "height": 462
        },
        "id": "gt48Kao8O0qi",
        "outputId": "636f3bc7-a30c-4363-b6be-2c4a95fdcb8a"
      },
      "source": [
        "# load end see data\n",
        "df = pd.read_csv('/content/drive/MyDrive/Colab Notebooks/(Olds_from_FF) HACKATHON BEST URFU’21/Main Project/hackathon-spring-2021.csv')\n",
        "df.head()"
      ],
      "execution_count": 4,
      "outputs": [
        {
          "output_type": "stream",
          "text": [
            "/usr/local/lib/python3.7/dist-packages/IPython/core/interactiveshell.py:2718: DtypeWarning:\n",
            "\n",
            "Columns (14) have mixed types.Specify dtype option on import or set low_memory=False.\n",
            "\n"
          ],
          "name": "stderr"
        },
        {
          "output_type": "execute_result",
          "data": {
            "text/html": [
              "<div>\n",
              "<style scoped>\n",
              "    .dataframe tbody tr th:only-of-type {\n",
              "        vertical-align: middle;\n",
              "    }\n",
              "\n",
              "    .dataframe tbody tr th {\n",
              "        vertical-align: top;\n",
              "    }\n",
              "\n",
              "    .dataframe thead th {\n",
              "        text-align: right;\n",
              "    }\n",
              "</style>\n",
              "<table border=\"1\" class=\"dataframe\">\n",
              "  <thead>\n",
              "    <tr style=\"text-align: right;\">\n",
              "      <th></th>\n",
              "      <th>social_type</th>\n",
              "      <th>text</th>\n",
              "      <th>has_images</th>\n",
              "      <th>has_videos</th>\n",
              "      <th>url</th>\n",
              "      <th>likes</th>\n",
              "      <th>comments</th>\n",
              "      <th>reposts</th>\n",
              "      <th>views</th>\n",
              "      <th>is_repost</th>\n",
              "      <th>created_date</th>\n",
              "      <th>updated_date</th>\n",
              "      <th>version</th>\n",
              "      <th>author_id</th>\n",
              "      <th>id</th>\n",
              "      <th>author_subscribers</th>\n",
              "    </tr>\n",
              "  </thead>\n",
              "  <tbody>\n",
              "    <tr>\n",
              "      <th>0</th>\n",
              "      <td>odnoklassniki</td>\n",
              "      <td>&lt;div data-tid=\"152651712709506\" data-l=\"ti,152...</td>\n",
              "      <td>1</td>\n",
              "      <td>0</td>\n",
              "      <td>https://ok.ru/group/42559086985346/topic/15265...</td>\n",
              "      <td>20</td>\n",
              "      <td>2</td>\n",
              "      <td>0</td>\n",
              "      <td>-1</td>\n",
              "      <td>0</td>\n",
              "      <td>2021-04-07 06:30:00</td>\n",
              "      <td>2021-04-07 16:40:11</td>\n",
              "      <td>2</td>\n",
              "      <td>42559086985346</td>\n",
              "      <td>group/42559086985346/topic/152651712709506</td>\n",
              "      <td>682150</td>\n",
              "    </tr>\n",
              "    <tr>\n",
              "      <th>1</th>\n",
              "      <td>odnoklassniki</td>\n",
              "      <td>&lt;div data-tid=\"152651712709506\" data-l=\"ti,152...</td>\n",
              "      <td>1</td>\n",
              "      <td>0</td>\n",
              "      <td>https://ok.ru/group/42559086985346/topic/15265...</td>\n",
              "      <td>23</td>\n",
              "      <td>3</td>\n",
              "      <td>0</td>\n",
              "      <td>-1</td>\n",
              "      <td>0</td>\n",
              "      <td>2021-04-07 06:30:00</td>\n",
              "      <td>2021-04-08 15:07:33</td>\n",
              "      <td>4</td>\n",
              "      <td>42559086985346</td>\n",
              "      <td>group/42559086985346/topic/152651712709506</td>\n",
              "      <td>682138</td>\n",
              "    </tr>\n",
              "    <tr>\n",
              "      <th>2</th>\n",
              "      <td>odnoklassniki</td>\n",
              "      <td>&lt;div data-tid=\"152651712709506\" data-l=\"ti,152...</td>\n",
              "      <td>1</td>\n",
              "      <td>0</td>\n",
              "      <td>https://ok.ru/group/42559086985346/topic/15265...</td>\n",
              "      <td>23</td>\n",
              "      <td>3</td>\n",
              "      <td>0</td>\n",
              "      <td>-1</td>\n",
              "      <td>0</td>\n",
              "      <td>2021-04-06 21:00:00</td>\n",
              "      <td>2021-04-09 05:17:45</td>\n",
              "      <td>6</td>\n",
              "      <td>42559086985346</td>\n",
              "      <td>group/42559086985346/topic/152651712709506</td>\n",
              "      <td>682137</td>\n",
              "    </tr>\n",
              "    <tr>\n",
              "      <th>3</th>\n",
              "      <td>odnoklassniki</td>\n",
              "      <td>&lt;div data-tid=\"152651712709506\" data-l=\"ti,152...</td>\n",
              "      <td>1</td>\n",
              "      <td>0</td>\n",
              "      <td>https://ok.ru/group/42559086985346/topic/15265...</td>\n",
              "      <td>23</td>\n",
              "      <td>3</td>\n",
              "      <td>0</td>\n",
              "      <td>-1</td>\n",
              "      <td>0</td>\n",
              "      <td>2021-04-06 21:00:00</td>\n",
              "      <td>2021-04-09 17:17:49</td>\n",
              "      <td>8</td>\n",
              "      <td>42559086985346</td>\n",
              "      <td>group/42559086985346/topic/152651712709506</td>\n",
              "      <td>682149</td>\n",
              "    </tr>\n",
              "    <tr>\n",
              "      <th>4</th>\n",
              "      <td>odnoklassniki</td>\n",
              "      <td>&lt;div data-tid=\"152651712709506\" data-l=\"ti,152...</td>\n",
              "      <td>1</td>\n",
              "      <td>0</td>\n",
              "      <td>https://ok.ru/group/42559086985346/topic/15265...</td>\n",
              "      <td>23</td>\n",
              "      <td>3</td>\n",
              "      <td>0</td>\n",
              "      <td>-1</td>\n",
              "      <td>0</td>\n",
              "      <td>2021-04-06 21:00:00</td>\n",
              "      <td>2021-04-10 06:12:21</td>\n",
              "      <td>10</td>\n",
              "      <td>42559086985346</td>\n",
              "      <td>group/42559086985346/topic/152651712709506</td>\n",
              "      <td>682149</td>\n",
              "    </tr>\n",
              "  </tbody>\n",
              "</table>\n",
              "</div>"
            ],
            "text/plain": [
              "     social_type  ... author_subscribers\n",
              "0  odnoklassniki  ...             682150\n",
              "1  odnoklassniki  ...             682138\n",
              "2  odnoklassniki  ...             682137\n",
              "3  odnoklassniki  ...             682149\n",
              "4  odnoklassniki  ...             682149\n",
              "\n",
              "[5 rows x 16 columns]"
            ]
          },
          "metadata": {
            "tags": []
          },
          "execution_count": 4
        }
      ]
    },
    {
      "cell_type": "code",
      "metadata": {
        "colab": {
          "base_uri": "https://localhost:8080/"
        },
        "id": "Xd0US3ELdRXb",
        "outputId": "64370631-d552-46c1-ccdb-7c1eefe567bd"
      },
      "source": [
        "df.shape"
      ],
      "execution_count": 5,
      "outputs": [
        {
          "output_type": "execute_result",
          "data": {
            "text/plain": [
              "(328572, 16)"
            ]
          },
          "metadata": {
            "tags": []
          },
          "execution_count": 5
        }
      ]
    },
    {
      "cell_type": "code",
      "metadata": {
        "id": "TNNBDv-GdsRn"
      },
      "source": [
        "# all time data to need format\n",
        "df['updated_date'] = pd.to_datetime(df['updated_date'])\n",
        "df['created_date'] = pd.to_datetime(df['created_date'])"
      ],
      "execution_count": 6,
      "outputs": []
    },
    {
      "cell_type": "code",
      "metadata": {
        "colab": {
          "base_uri": "https://localhost:8080/",
          "height": 66,
          "referenced_widgets": [
            "1cb0e4025b464cc48267b8d0d187e426",
            "57fd3faa995d4198b3547f412ce37712",
            "892aaac791e64223adfc8d8fdba3eba2",
            "07a469bf815744589d94914319215b35",
            "d18db474f07d494d8d5eb0c84c3fa96f",
            "1893c41e5c2944a8a57a624ba92bdd45",
            "588bac3519404c2f954a7e0cde2dbaf9",
            "fc5efdc9f93d4cbd834fcb6b4997834f"
          ]
        },
        "id": "tgkQS-yfE7Bp",
        "outputId": "be827e00-a6a8-4bc5-da90-b2c82059a215"
      },
      "source": [
        "# # посмотрим надоли лайков, репостов, комментарий, просмотров (относитльно аудитории)\n",
        "data_with_allfullINFO = df.query('likes >= 0 and reposts >= 0 and comments >= 0 \\\n",
        "                                  and author_subscribers > 0 and views > 0 and author_subscribers >= views')\n",
        "per_repost = []\n",
        "per_like = []\n",
        "per_comm = []\n",
        "reach = []\n",
        "for id in tqdm(data_with_allfullINFO['id'].unique()):\n",
        "    curr_data = data_with_allfullINFO[data_with_allfullINFO['id'] == id]\n",
        "    max_subscribers = curr_data['author_subscribers'].max()\n",
        "    per_like += [curr_data['likes'].max() / max_subscribers]\n",
        "    per_repost += [curr_data['reposts'].max() / max_subscribers]\n",
        "    per_comm += [curr_data['comments'].max() / max_subscribers]\n",
        "    reach += [curr_data['views'].max() / max_subscribers]"
      ],
      "execution_count": 130,
      "outputs": [
        {
          "output_type": "display_data",
          "data": {
            "application/vnd.jupyter.widget-view+json": {
              "model_id": "1cb0e4025b464cc48267b8d0d187e426",
              "version_minor": 0,
              "version_major": 2
            },
            "text/plain": [
              "HBox(children=(FloatProgress(value=0.0, max=33308.0), HTML(value='')))"
            ]
          },
          "metadata": {
            "tags": []
          }
        },
        {
          "output_type": "stream",
          "text": [
            "\n"
          ],
          "name": "stdout"
        }
      ]
    },
    {
      "cell_type": "code",
      "metadata": {
        "id": "Uh_hGmiAPo4S",
        "colab": {
          "base_uri": "https://localhost:8080/",
          "height": 603
        },
        "outputId": "da58cf9e-4bbf-47ea-bb7a-a1b9ecc034f7"
      },
      "source": [
        "a = pd.DataFrame({'per_like': per_like, 'per_repost': per_repost, 'per_comm': per_comm, 'reach':reach})\n",
        "# subplots boxplot\n",
        "_, ax = plt.subplots(figsize=(15,5), facecolor='w')\n",
        "a.plot(subplots=True, layout=(1,4), kind='box', grid=True, patch_artist=True, ax=ax)\n",
        "plt.subplots_adjust(wspace=0.5);\n",
        "\n",
        "# subplots hist\n",
        "_, ax = plt.subplots(figsize=(15,4), facecolor='w')\n",
        "a.plot(subplots=True, layout=(1,4), kind='hist', grid=True, ax=ax)\n",
        "plt.subplots_adjust(wspace=0.5);"
      ],
      "execution_count": 136,
      "outputs": [
        {
          "output_type": "stream",
          "text": [
            "To output multiple subplots, the figure containing the passed axes is being cleared\n",
            "To output multiple subplots, the figure containing the passed axes is being cleared\n"
          ],
          "name": "stderr"
        },
        {
          "output_type": "display_data",
          "data": {
            "image/png": "[encoded data removed]",
            "text/plain": [
              "<Figure size 1080x360 with 4 Axes>"
            ]
          },
          "metadata": {
            "tags": []
          }
        },
        {
          "output_type": "display_data",
          "data": {
            "image/png": "[encoded data removed]",
            "text/plain": [
              "<Figure size 1080x288 with 4 Axes>"
            ]
          },
          "metadata": {
            "tags": []
          }
        }
      ]
    },
    {
      "cell_type": "code",
      "metadata": {
        "colab": {
          "base_uri": "https://localhost:8080/",
          "height": 423,
          "referenced_widgets": [
            "6203f0df136c44f7a81c77458194d4e4",
            "fdcade5251a245e38006546e3b12e77b",
            "9726b434514a408d914414ee16ce5e2a",
            "b8466a2bf25b489b8677a7eb365736bb",
            "1554f32dcc9c4044ad606062fa7fd8b0",
            "ec9e1d5d143d4cd2a2a1bed8f20be1ea",
            "48d7b9225719440daa61847fe5afb44f",
            "8be3379110c04c2496fa38d412a9ccb3"
          ]
        },
        "id": "YCePcnajBNrI",
        "outputId": "d5f5896e-3d10-4ad7-edb3-c183efb64b06"
      },
      "source": [
        "# гистограмма периодов, за которые были измерены данные в днях"
      ],
      "execution_count": null,
      "outputs": [
        {
          "output_type": "display_data",
          "data": {
            "application/vnd.jupyter.widget-view+json": {
              "model_id": "6203f0df136c44f7a81c77458194d4e4",
              "version_minor": 0,
              "version_major": 2
            },
            "text/plain": [
              "HBox(children=(FloatProgress(value=0.0, max=63033.0), HTML(value='')))"
            ]
          },
          "metadata": {
            "tags": []
          }
        },
        {
          "output_type": "stream",
          "text": [
            "\n"
          ],
          "name": "stdout"
        },
        {
          "output_type": "display_data",
          "data": {
            "image/png": "[encoded data removed]",
            "text/plain": [
              "<Figure size 576x432 with 1 Axes>"
            ]
          },
          "metadata": {
            "tags": [],
            "needs_background": "light"
          }
        }
      ]
    },
    {
      "cell_type": "code",
      "metadata": {
        "colab": {
          "base_uri": "https://localhost:8080/",
          "height": 66,
          "referenced_widgets": [
            "f2fccf5861114445a9ef8ed49c9f5ec5",
            "bb5805ac21e140a88924cd18504a8b46",
            "27c6479dbfb94454a6254490d841abeb",
            "3d5e14006b464c0b8ad5d55732ce2269",
            "3d5b758e6a7443ae8d507c64167d077a",
            "aac8667272cc471d96aefa42af7a8b59",
            "93f2e87438f64bdb92098f9857b76b99",
            "397286dd0df14a64b4eb063f8c321379"
          ]
        },
        "id": "5RtZTjFwWnMm",
        "outputId": "0e1198b2-8b2a-414d-a11b-9e7a0615fd89"
      },
      "source": [
        "# нам интересны случаи когда есть просмотры и подписчики\n",
        "data_with_fullINFO = df.query('author_subscribers > 0 and views > 0 and author_subscribers >= views')\n",
        "\n",
        "# т.к. данных и так мало, то будем предсказывать не на неделю, а на день\n",
        "\n",
        "init_cols = ['social_type', 'text', 'has_images', 'has_videos', 'url', \n",
        "             'is_repost', 'created_date', 'author_id', 'id']\n",
        "series_cols = set(list(df.columns)) - set(init_cols)\n",
        "\n",
        "learn_data = []\n",
        "series_data = []\n",
        "#todo: добавить сюда временные ряды для подходящих данных\n",
        "\n",
        "for id in tqdm(data_with_fullINFO['id'].unique()):\n",
        "    # chose only need info abot one post\n",
        "    need_df = data_with_fullINFO[data_with_fullINFO['id'] == id]\n",
        "    need_df = need_df.sort_values(by=['updated_date'], ignore_index=True)\n",
        "    \n",
        "    # add info about obhvat after week \n",
        "    created_date = need_df['created_date'][0]\n",
        "    updated_date = need_df['updated_date']\n",
        "    period = updated_date - created_date\n",
        "\n",
        "    if np.any(period.dt.days >= 1):\n",
        "        # находим данные за семь дней\n",
        "        ind = period.index[(period.dt.days - 1).abs().argsort()[:2]]\n",
        "        \n",
        "        init_data = need_df.loc[0, init_cols].to_frame().T\n",
        "        views = need_df['views']\n",
        "        subscribers = need_df['author_subscribers']\n",
        "        init_data['author_subscribers_init'] = subscribers[0]\n",
        "        init_data['author_subscribers_week'] = subscribers[ind[-1]]\n",
        "        init_data['views_week'] = views[ind[-1]]\n",
        "        learn_data += [init_data]\n",
        "        series_data += [need_df[series_cols].reset_index()]"
      ],
      "execution_count": 24,
      "outputs": [
        {
          "output_type": "display_data",
          "data": {
            "application/vnd.jupyter.widget-view+json": {
              "model_id": "f2fccf5861114445a9ef8ed49c9f5ec5",
              "version_minor": 0,
              "version_major": 2
            },
            "text/plain": [
              "HBox(children=(FloatProgress(value=0.0, max=42480.0), HTML(value='')))"
            ]
          },
          "metadata": {
            "tags": []
          }
        },
        {
          "output_type": "stream",
          "text": [
            "\n"
          ],
          "name": "stdout"
        }
      ]
    },
    {
      "cell_type": "markdown",
      "metadata": {
        "id": "PHTdalqLXO_J"
      },
      "source": [
        "#Let's try estimate"
      ]
    },
    {
      "cell_type": "markdown",
      "metadata": {
        "id": "6ufmsXWkJjCM"
      },
      "source": [
        "##попробуем кластеризацию текста"
      ]
    },
    {
      "cell_type": "code",
      "metadata": {
        "id": "igHeGKkzDh7R"
      },
      "source": [
        "# попробуем кластеризацию текста"
      ],
      "execution_count": null,
      "outputs": []
    },
    {
      "cell_type": "code",
      "metadata": {
        "id": "1xGXg0QLDrnr"
      },
      "source": [
        "!pip install mpld3"
      ],
      "execution_count": null,
      "outputs": []
    },
    {
      "cell_type": "code",
      "metadata": {
        "id": "FcvPm4llDn4k"
      },
      "source": [
        "import numpy as np\n",
        "import pandas as pd\n",
        "import nltk\n",
        "import re\n",
        "import os\n",
        "import codecs\n",
        "from sklearn import feature_extraction\n",
        "import mpld3\n",
        "import matplotlib.pyplot as plt\n",
        "import matplotlib as mpl"
      ],
      "execution_count": null,
      "outputs": []
    },
    {
      "cell_type": "code",
      "metadata": {
        "colab": {
          "base_uri": "https://localhost:8080/"
        },
        "id": "b8pAbjdxFyA3",
        "outputId": "f1a8ecf8-ff1e-458d-be5c-07256766df1c"
      },
      "source": [
        "dict_data_morehalfday['init_info'][0]"
      ],
      "execution_count": null,
      "outputs": [
        {
          "output_type": "error",
          "ename": "NameError",
          "evalue": "ignored",
          "traceback": [
            "\u001b[0;31m---------------------------------------------------------------------------\u001b[0m",
            "\u001b[0;31mNameError\u001b[0m                                 Traceback (most recent call last)",
            "\u001b[0;32m<ipython-input-1-bc9ba2a33123>\u001b[0m in \u001b[0;36m<module>\u001b[0;34m()\u001b[0m\n\u001b[0;32m----> 1\u001b[0;31m \u001b[0mdict_data\u001b[0m\u001b[0;34m[\u001b[0m\u001b[0;34m'init_info'\u001b[0m\u001b[0;34m]\u001b[0m\u001b[0;34m[\u001b[0m\u001b[0;36m0\u001b[0m\u001b[0;34m]\u001b[0m\u001b[0;34m\u001b[0m\u001b[0;34m\u001b[0m\u001b[0m\n\u001b[0m",
            "\u001b[0;31mNameError\u001b[0m: name 'dict_data' is not defined"
          ]
        }
      ]
    },
    {
      "cell_type": "code",
      "metadata": {
        "id": "q476bbtHDzIu"
      },
      "source": [
        "dict_data['init_info']\n",
        "\n",
        "#удалим все знаки препинания и цифры\n",
        "for line in titles:\n",
        "    chis = re.sub(r'(\\<(/?[^>]+)>)', ' ', line)\n",
        "    #chis = re.sub()\n",
        "    chis = re.sub('[^а-яА-Я ]', '', chis)\n",
        "    posti.append(chis)"
      ],
      "execution_count": null,
      "outputs": []
    },
    {
      "cell_type": "markdown",
      "metadata": {
        "id": "NKpejm5ZXUa0"
      },
      "source": [
        "##Create dataset"
      ]
    },
    {
      "cell_type": "code",
      "metadata": {
        "colab": {
          "base_uri": "https://localhost:8080/",
          "height": 423,
          "referenced_widgets": [
            "55920b0f14de4239900d1a4c2a82da66",
            "db80488850bb4cd4a5384a14a9068563",
            "9e4199b27b634ff086005eaba5db116c",
            "b84673ae0c0b47f78375314bf689e5b1",
            "19dab72efeda4bbfbc5b3548d78cae1a",
            "b2c668c3bbe94a3eb847f50f9561ac29",
            "fbdfb4b0e4074eac9ed4009563e05ab4",
            "380dc4df5e0d4920b2e439e84400ccc2"
          ]
        },
        "id": "UytIfU9HvQar",
        "outputId": "44e8b578-55d0-4925-a324-668b62d45951"
      },
      "source": [
        "# гистограмма периодов, за которые были измерены данные \n",
        "period = []\n",
        "dict_data_morehalfday = {'init_info': [], 'series_data': []}\n",
        "for i in tqdm(range(len(dict_data['series_data']))):\n",
        "    data = dict_data['series_data'][i]['updated_date']\n",
        "    period += [data[len(data)-1] - data[0]]\n",
        "\n",
        "    if period[-1].seconds // 3600 >= 12:\n",
        "        dict_data_morehalfday['init_info'] += [dict_data['init_info'][i]]\n",
        "        dict_data_morehalfday['series_data'] += [dict_data['series_data'][i]]\n",
        "\n",
        "_, ax = plt.subplots(figsize=(8,6))\n",
        "sns.histplot(pd.DataFrame({'days_period':list(map(lambda x: x.days, period))}), binwidth=0.5, ax=ax)\n",
        "ax.grid(linestyle='--')"
      ],
      "execution_count": null,
      "outputs": [
        {
          "output_type": "display_data",
          "data": {
            "application/vnd.jupyter.widget-view+json": {
              "model_id": "55920b0f14de4239900d1a4c2a82da66",
              "version_minor": 0,
              "version_major": 2
            },
            "text/plain": [
              "HBox(children=(FloatProgress(value=0.0, max=43596.0), HTML(value='')))"
            ]
          },
          "metadata": {
            "tags": []
          }
        },
        {
          "output_type": "stream",
          "text": [
            "\n"
          ],
          "name": "stdout"
        },
        {
          "output_type": "display_data",
          "data": {
            "image/png": "[encoded data removed]",
            "text/plain": [
              "<Figure size 576x432 with 1 Axes>"
            ]
          },
          "metadata": {
            "tags": [],
            "needs_background": "light"
          }
        }
      ]
    },
    {
      "cell_type": "code",
      "metadata": {
        "colab": {
          "base_uri": "https://localhost:8080/"
        },
        "id": "7oaqVxS6ZTDI",
        "outputId": "4baefbba-fec8-4b94-ca30-6c901f9a03b6"
      },
      "source": [
        "X = pd.concat(learn_data)\n",
        "#X = X[X['author_subscribers_week'] >= X['views_week']]\n",
        "print(X.shape)\n",
        "num_cols = ['has_images', 'has_videos', 'author_id', 'author_subscribers_init', \n",
        "            'author_subscribers_week', 'views_week']\n",
        "X[num_cols] = X[num_cols].astype(float)\n",
        "X[['is_repost', 'author_id']] = X[['is_repost', 'author_id']].astype(int)\n",
        "X.info()"
      ],
      "execution_count": 51,
      "outputs": [
        {
          "output_type": "stream",
          "text": [
            "(11856, 12)\n",
            "<class 'pandas.core.frame.DataFrame'>\n",
            "Int64Index: 11856 entries, 0 to 0\n",
            "Data columns (total 12 columns):\n",
            " #   Column                   Non-Null Count  Dtype         \n",
            "---  ------                   --------------  -----         \n",
            " 0   social_type              11856 non-null  object        \n",
            " 1   text                     11440 non-null  object        \n",
            " 2   has_images               11856 non-null  float64       \n",
            " 3   has_videos               11856 non-null  float64       \n",
            " 4   url                      11856 non-null  object        \n",
            " 5   is_repost                11856 non-null  int64         \n",
            " 6   created_date             11856 non-null  datetime64[ns]\n",
            " 7   author_id                11856 non-null  int64         \n",
            " 8   id                       11856 non-null  object        \n",
            " 9   author_subscribers_init  11856 non-null  float64       \n",
            " 10  author_subscribers_week  11856 non-null  float64       \n",
            " 11  views_week               11856 non-null  float64       \n",
            "dtypes: datetime64[ns](1), float64(5), int64(2), object(4)\n",
            "memory usage: 1.2+ MB\n"
          ],
          "name": "stdout"
        }
      ]
    },
    {
      "cell_type": "code",
      "metadata": {
        "id": "43P-0lD2gcBa"
      },
      "source": [
        "X.head()"
      ],
      "execution_count": null,
      "outputs": []
    },
    {
      "cell_type": "code",
      "metadata": {
        "id": "Q77wP5f2eLH-"
      },
      "source": [
        "def pred_pross(X):\n",
        "    # находим обхват за неделю\n",
        "    X['reach'] = X['views_week'] / X['author_subscribers_week']\n",
        "    # добавляем информацию о дне недели и часа даты создания\n",
        "    X['day_of_week'] = X['created_date'].dt.dayofweek\n",
        "    X['hour'] = X['created_date'].dt.hour\n",
        "    # one hot enc для соцсети\n",
        "    X = pd.concat([X, pd.get_dummies(X['social_type'], prefix='social_type')], \n",
        "                  axis=1)\n",
        "\n",
        "    X.drop(['social_type'], axis=1, inplace=True)\n",
        "    return X "
      ],
      "execution_count": 52,
      "outputs": []
    },
    {
      "cell_type": "code",
      "metadata": {
        "colab": {
          "base_uri": "https://localhost:8080/",
          "height": 309
        },
        "id": "ohbx35sxp28e",
        "outputId": "89938779-8124-4df2-be27-f5df3b6342af"
      },
      "source": [
        "X = pred_pross(X)\n",
        "X.head()"
      ],
      "execution_count": 53,
      "outputs": [
        {
          "output_type": "execute_result",
          "data": {
            "text/html": [
              "<div>\n",
              "<style scoped>\n",
              "    .dataframe tbody tr th:only-of-type {\n",
              "        vertical-align: middle;\n",
              "    }\n",
              "\n",
              "    .dataframe tbody tr th {\n",
              "        vertical-align: top;\n",
              "    }\n",
              "\n",
              "    .dataframe thead th {\n",
              "        text-align: right;\n",
              "    }\n",
              "</style>\n",
              "<table border=\"1\" class=\"dataframe\">\n",
              "  <thead>\n",
              "    <tr style=\"text-align: right;\">\n",
              "      <th></th>\n",
              "      <th>text</th>\n",
              "      <th>has_images</th>\n",
              "      <th>has_videos</th>\n",
              "      <th>url</th>\n",
              "      <th>is_repost</th>\n",
              "      <th>created_date</th>\n",
              "      <th>author_id</th>\n",
              "      <th>id</th>\n",
              "      <th>author_subscribers_init</th>\n",
              "      <th>author_subscribers_week</th>\n",
              "      <th>views_week</th>\n",
              "      <th>reach</th>\n",
              "      <th>day_of_week</th>\n",
              "      <th>hour</th>\n",
              "      <th>social_type_telegram</th>\n",
              "      <th>social_type_vk</th>\n",
              "    </tr>\n",
              "  </thead>\n",
              "  <tbody>\n",
              "    <tr>\n",
              "      <th>0</th>\n",
              "      <td>https://svo.spb.ru/1abzats/v-bolgarii-obyasnil...</td>\n",
              "      <td>0.0</td>\n",
              "      <td>0.0</td>\n",
              "      <td>https://t.me/AAAAAFMSqM/1574</td>\n",
              "      <td>0</td>\n",
              "      <td>2021-04-06 22:08:49</td>\n",
              "      <td>86948</td>\n",
              "      <td>2546168242615879164</td>\n",
              "      <td>2.0</td>\n",
              "      <td>2.0</td>\n",
              "      <td>1.0</td>\n",
              "      <td>0.5</td>\n",
              "      <td>1</td>\n",
              "      <td>22</td>\n",
              "      <td>1</td>\n",
              "      <td>0</td>\n",
              "    </tr>\n",
              "    <tr>\n",
              "      <th>0</th>\n",
              "      <td>https://svo.spb.ru/1abzats/mironov-predlozhil-...</td>\n",
              "      <td>0.0</td>\n",
              "      <td>0.0</td>\n",
              "      <td>https://t.me/AAAAAFMSqM/1575</td>\n",
              "      <td>0</td>\n",
              "      <td>2021-04-06 22:41:59</td>\n",
              "      <td>86948</td>\n",
              "      <td>2546184935945799165</td>\n",
              "      <td>2.0</td>\n",
              "      <td>2.0</td>\n",
              "      <td>1.0</td>\n",
              "      <td>0.5</td>\n",
              "      <td>1</td>\n",
              "      <td>22</td>\n",
              "      <td>1</td>\n",
              "      <td>0</td>\n",
              "    </tr>\n",
              "    <tr>\n",
              "      <th>0</th>\n",
              "      <td>https://svo.spb.ru/1abzats/v-mvd-razyasnili-vo...</td>\n",
              "      <td>0.0</td>\n",
              "      <td>0.0</td>\n",
              "      <td>https://t.me/AAAAAFMSqM/1576</td>\n",
              "      <td>0</td>\n",
              "      <td>2021-04-07 06:48:34</td>\n",
              "      <td>86948</td>\n",
              "      <td>2546429841356359608</td>\n",
              "      <td>2.0</td>\n",
              "      <td>2.0</td>\n",
              "      <td>1.0</td>\n",
              "      <td>0.5</td>\n",
              "      <td>2</td>\n",
              "      <td>6</td>\n",
              "      <td>1</td>\n",
              "      <td>0</td>\n",
              "    </tr>\n",
              "    <tr>\n",
              "      <th>0</th>\n",
              "      <td>https://svo.spb.ru/1abzats/drozdenko-soobshhil...</td>\n",
              "      <td>0.0</td>\n",
              "      <td>0.0</td>\n",
              "      <td>https://t.me/AAAAAFMSqM/1577</td>\n",
              "      <td>0</td>\n",
              "      <td>2021-04-07 06:49:20</td>\n",
              "      <td>86948</td>\n",
              "      <td>2546430227232327609</td>\n",
              "      <td>2.0</td>\n",
              "      <td>2.0</td>\n",
              "      <td>1.0</td>\n",
              "      <td>0.5</td>\n",
              "      <td>2</td>\n",
              "      <td>6</td>\n",
              "      <td>1</td>\n",
              "      <td>0</td>\n",
              "    </tr>\n",
              "    <tr>\n",
              "      <th>0</th>\n",
              "      <td>https://svo.spb.ru/1abzats/myortvaya-voda-kryma/</td>\n",
              "      <td>0.0</td>\n",
              "      <td>0.0</td>\n",
              "      <td>https://t.me/AAAAAFMSqM/1578</td>\n",
              "      <td>0</td>\n",
              "      <td>2021-04-07 07:03:35</td>\n",
              "      <td>86948</td>\n",
              "      <td>2546437399492167610</td>\n",
              "      <td>2.0</td>\n",
              "      <td>2.0</td>\n",
              "      <td>1.0</td>\n",
              "      <td>0.5</td>\n",
              "      <td>2</td>\n",
              "      <td>7</td>\n",
              "      <td>1</td>\n",
              "      <td>0</td>\n",
              "    </tr>\n",
              "  </tbody>\n",
              "</table>\n",
              "</div>"
            ],
            "text/plain": [
              "                                                text  ...  social_type_vk\n",
              "0  https://svo.spb.ru/1abzats/v-bolgarii-obyasnil...  ...               0\n",
              "0  https://svo.spb.ru/1abzats/mironov-predlozhil-...  ...               0\n",
              "0  https://svo.spb.ru/1abzats/v-mvd-razyasnili-vo...  ...               0\n",
              "0  https://svo.spb.ru/1abzats/drozdenko-soobshhil...  ...               0\n",
              "0   https://svo.spb.ru/1abzats/myortvaya-voda-kryma/  ...               0\n",
              "\n",
              "[5 rows x 16 columns]"
            ]
          },
          "metadata": {
            "tags": []
          },
          "execution_count": 53
        }
      ]
    },
    {
      "cell_type": "code",
      "metadata": {
        "colab": {
          "base_uri": "https://localhost:8080/",
          "height": 221
        },
        "id": "aUjx5VlMrO0K",
        "outputId": "987c9d67-1f89-439c-eb1f-591b049a3c5c"
      },
      "source": [
        "x = X[set(X.columns) - {'text', 'url', 'author_subscribers_week', 'views_week', \n",
        "                        'created_date', 'id', 'reach', 'day_of_week'}]\n",
        "print(x.shape)\n",
        "x.head()"
      ],
      "execution_count": 97,
      "outputs": [
        {
          "output_type": "stream",
          "text": [
            "(11856, 8)\n"
          ],
          "name": "stdout"
        },
        {
          "output_type": "execute_result",
          "data": {
            "text/html": [
              "<div>\n",
              "<style scoped>\n",
              "    .dataframe tbody tr th:only-of-type {\n",
              "        vertical-align: middle;\n",
              "    }\n",
              "\n",
              "    .dataframe tbody tr th {\n",
              "        vertical-align: top;\n",
              "    }\n",
              "\n",
              "    .dataframe thead th {\n",
              "        text-align: right;\n",
              "    }\n",
              "</style>\n",
              "<table border=\"1\" class=\"dataframe\">\n",
              "  <thead>\n",
              "    <tr style=\"text-align: right;\">\n",
              "      <th></th>\n",
              "      <th>has_videos</th>\n",
              "      <th>social_type_telegram</th>\n",
              "      <th>social_type_vk</th>\n",
              "      <th>author_id</th>\n",
              "      <th>author_subscribers_init</th>\n",
              "      <th>is_repost</th>\n",
              "      <th>has_images</th>\n",
              "      <th>hour</th>\n",
              "    </tr>\n",
              "  </thead>\n",
              "  <tbody>\n",
              "    <tr>\n",
              "      <th>0</th>\n",
              "      <td>0.0</td>\n",
              "      <td>1</td>\n",
              "      <td>0</td>\n",
              "      <td>86948</td>\n",
              "      <td>2.0</td>\n",
              "      <td>0</td>\n",
              "      <td>0.0</td>\n",
              "      <td>22</td>\n",
              "    </tr>\n",
              "    <tr>\n",
              "      <th>0</th>\n",
              "      <td>0.0</td>\n",
              "      <td>1</td>\n",
              "      <td>0</td>\n",
              "      <td>86948</td>\n",
              "      <td>2.0</td>\n",
              "      <td>0</td>\n",
              "      <td>0.0</td>\n",
              "      <td>22</td>\n",
              "    </tr>\n",
              "    <tr>\n",
              "      <th>0</th>\n",
              "      <td>0.0</td>\n",
              "      <td>1</td>\n",
              "      <td>0</td>\n",
              "      <td>86948</td>\n",
              "      <td>2.0</td>\n",
              "      <td>0</td>\n",
              "      <td>0.0</td>\n",
              "      <td>6</td>\n",
              "    </tr>\n",
              "    <tr>\n",
              "      <th>0</th>\n",
              "      <td>0.0</td>\n",
              "      <td>1</td>\n",
              "      <td>0</td>\n",
              "      <td>86948</td>\n",
              "      <td>2.0</td>\n",
              "      <td>0</td>\n",
              "      <td>0.0</td>\n",
              "      <td>6</td>\n",
              "    </tr>\n",
              "    <tr>\n",
              "      <th>0</th>\n",
              "      <td>0.0</td>\n",
              "      <td>1</td>\n",
              "      <td>0</td>\n",
              "      <td>86948</td>\n",
              "      <td>2.0</td>\n",
              "      <td>0</td>\n",
              "      <td>0.0</td>\n",
              "      <td>7</td>\n",
              "    </tr>\n",
              "  </tbody>\n",
              "</table>\n",
              "</div>"
            ],
            "text/plain": [
              "   has_videos  social_type_telegram  ...  has_images  hour\n",
              "0         0.0                     1  ...         0.0    22\n",
              "0         0.0                     1  ...         0.0    22\n",
              "0         0.0                     1  ...         0.0     6\n",
              "0         0.0                     1  ...         0.0     6\n",
              "0         0.0                     1  ...         0.0     7\n",
              "\n",
              "[5 rows x 8 columns]"
            ]
          },
          "metadata": {
            "tags": []
          },
          "execution_count": 97
        }
      ]
    },
    {
      "cell_type": "code",
      "metadata": {
        "colab": {
          "base_uri": "https://localhost:8080/",
          "height": 375
        },
        "id": "o4hbPKA0E1rU",
        "outputId": "6a74d2fa-30e7-427d-e6e7-e83c80f82ceb"
      },
      "source": [
        "_, ax = plt.subplots(ncols=2, facecolor='w', figsize=(16,5))\n",
        "sns.boxplot(X['reach'], orient=\"h\", ax=ax[0])\n",
        "sns.histplot(X['reach'], ec='k', log_scale=True, ax=ax[1])\n",
        "ax[0].set_xlabel(None)\n",
        "ax[0].grid(linestyle='--')\n",
        "ax[1].grid(linestyle='--')\n",
        "plt.show()"
      ],
      "execution_count": 157,
      "outputs": [
        {
          "output_type": "stream",
          "text": [
            "Pass the following variable as a keyword arg: x. From version 0.12, the only valid positional argument will be `data`, and passing other arguments without an explicit keyword will result in an error or misinterpretation.\n"
          ],
          "name": "stderr"
        },
        {
          "output_type": "display_data",
          "data": {
            "image/png": "[encoded data removed]",
            "text/plain": [
              "<Figure size 1152x360 with 2 Axes>"
            ]
          },
          "metadata": {
            "tags": []
          }
        }
      ]
    },
    {
      "cell_type": "code",
      "metadata": {
        "id": "KaI8xKIvjhZ_"
      },
      "source": [
        "def make_query_dataset(has_videos, has_images, social_type,\tauthor_id, is_repost,\n",
        "                       create_data, author_subscribers_init):\n",
        "    '''\n",
        "    has_videos --> int, (0 -- False, 1 -- True)\n",
        "    has_images --> int, (0 -- False, 1 -- True)\n",
        "    social_type --> str ('vk', 'telegram')\n",
        "    author_id --> int\n",
        "    is_repost --> int, (0 -- False, 1 -- True)\n",
        "    create_data --> data in str, format '%Y-%m-%d %H:%M:%S'\n",
        "    author_subscribers_init --> int,\n",
        "    '''\n",
        "    create_data = datetime.datetime.strptime(create_data, '%Y-%m-%d %H:%M:%S')\n",
        "    if social_type == 'telegram':\n",
        "        social_type_telegram = 1\n",
        "        social_type_vk = 0\n",
        "    elif social_type == 'vk':\n",
        "        social_type_telegram = 0\n",
        "        social_type_vk = 1\n",
        "    df = pd.DataFrame({'has_videos': [int(has_videos)],\n",
        "                       'social_type_telegram': [social_type_telegram],\n",
        "                       'social_type_vk': [social_type_vk],\n",
        "                       'author_id': [int(author_id)],\n",
        "                       'author_subscribers_init': [int(author_subscribers_init)],\n",
        "                       'is_repost': [int(is_repost)],\n",
        "                       'has_images': [int(has_images)],\n",
        "                       'hour': [create_data.hour]})\n",
        "    return df"
      ],
      "execution_count": 93,
      "outputs": []
    },
    {
      "cell_type": "code",
      "metadata": {
        "id": "4d2fXVzy54zu"
      },
      "source": [
        "# загружаем сохраненную модель в формате .joblib\n",
        "model = pickle.load(open('model.pkl', 'rb'))\n",
        "\n",
        "# функция для предсказания потенциального охвата\n",
        "def predict_reach_by_day(input_df, model):\n",
        "    ''' \n",
        "    input_df --> DataFrame, данные пользователя из функции make_query_dataset\n",
        "    model --> fit model \n",
        "    '''\n",
        "    y_pred = model.predict(input_df.values)\n",
        "    return y_pred\n",
        "\n",
        "\n",
        "# дата создания поста, которую вводит пользователь create_data\n",
        "create_data_dt = datetime.datetime.strptime(create_data, '%Y-%m-%d %H:%M:%S')\n",
        "\n",
        "# массивы для отрисовки графика\n",
        "x = [create_data_dt, \n",
        "     create_data_dt + datetime.timedelta(days=1)]\n",
        "y = [0, y_pred] # y_pred = predict_reach_by_day(input_df, model)"
      ],
      "execution_count": null,
      "outputs": []
    },
    {
      "cell_type": "markdown",
      "metadata": {
        "id": "Gnp2jQkgco27"
      },
      "source": [
        "##Fit"
      ]
    },
    {
      "cell_type": "code",
      "metadata": {
        "colab": {
          "base_uri": "https://localhost:8080/"
        },
        "id": "4DKZXd-0zPCl",
        "outputId": "4e3b1838-15d4-4447-aa04-37021a12895b"
      },
      "source": [
        "dump(grid_result.best_estimator_, 'best_regressor_xgboost.joblib') "
      ],
      "execution_count": 123,
      "outputs": [
        {
          "output_type": "execute_result",
          "data": {
            "text/plain": [
              "['best_regressor_xgboost.joblib']"
            ]
          },
          "metadata": {
            "tags": []
          },
          "execution_count": 123
        }
      ]
    },
    {
      "cell_type": "code",
      "metadata": {
        "id": "S7O--kE-yLcT"
      },
      "source": [
        "mse = make_scorer(mean_squared_error, average='macro')"
      ],
      "execution_count": 45,
      "outputs": []
    },
    {
      "cell_type": "code",
      "metadata": {
        "colab": {
          "base_uri": "https://localhost:8080/"
        },
        "id": "X0zR-u7pcoUn",
        "outputId": "653bf1a9-b4d8-4ff1-fd48-283521378a9e"
      },
      "source": [
        "gsc = GridSearchCV(\n",
        "            estimator=XGBRegressor(),\n",
        "            param_grid={\"learning_rate\": (0.05, 0.10),\n",
        "                        \"max_depth\": [ 3, 4],\n",
        "                        \"min_child_weight\": [3, 5, 7],\n",
        "                        \"gamma\": [0.0],\n",
        "                        \"colsample_bytree\":[0.3, 0.4],},\n",
        "            cv=5, verbose=0, n_jobs=-1)\n",
        "\n",
        "grid_result = gsc.fit(x.values, X['reach'])"
      ],
      "execution_count": 100,
      "outputs": [
        {
          "output_type": "stream",
          "text": [
            "[06:44:40] WARNING: /workspace/src/objective/regression_obj.cu:152: reg:linear is now deprecated in favor of reg:squarederror.\n"
          ],
          "name": "stdout"
        }
      ]
    },
    {
      "cell_type": "code",
      "metadata": {
        "colab": {
          "base_uri": "https://localhost:8080/"
        },
        "id": "xbtWbHPvdCUv",
        "outputId": "47fbcf1f-970a-4e2f-b442-b4387f3f1cb3"
      },
      "source": [
        "grid_result.best_params_  # for the first y_target estimator"
      ],
      "execution_count": 101,
      "outputs": [
        {
          "output_type": "execute_result",
          "data": {
            "text/plain": [
              "{'colsample_bytree': 0.3,\n",
              " 'gamma': 0.0,\n",
              " 'learning_rate': 0.05,\n",
              " 'max_depth': 3,\n",
              " 'min_child_weight': 5}"
            ]
          },
          "metadata": {
            "tags": []
          },
          "execution_count": 101
        }
      ]
    },
    {
      "cell_type": "code",
      "metadata": {
        "colab": {
          "base_uri": "https://localhost:8080/"
        },
        "id": "vF6-ENh_foLH",
        "outputId": "b156ee62-3683-40c3-da1b-d527b52a2541"
      },
      "source": [
        "grid_result.best_score_"
      ],
      "execution_count": 102,
      "outputs": [
        {
          "output_type": "execute_result",
          "data": {
            "text/plain": [
              "0.1210642975705464"
            ]
          },
          "metadata": {
            "tags": []
          },
          "execution_count": 102
        }
      ]
    },
    {
      "cell_type": "code",
      "metadata": {
        "id": "_ecV1l3Jzt-l"
      },
      "source": [
        "y_pred = grid_result.best_estimator_.predict(x.values)\n",
        "y_real = X['reach']"
      ],
      "execution_count": 103,
      "outputs": []
    },
    {
      "cell_type": "code",
      "metadata": {
        "colab": {
          "base_uri": "https://localhost:8080/",
          "height": 279
        },
        "id": "BQ7NeI3E0jSD",
        "outputId": "47e0920e-45b6-4145-eaa8-fb0f2d41241f"
      },
      "source": [
        "_, ax = plt.subplots(facecolor='w')\n",
        "ax.scatter(np.arange(len(y_pred)), abs(y_real-y_pred))\n",
        "ax.set_xlabel('iter')\n",
        "ax.set_ylabel('abs error')\n",
        "ax.grid()"
      ],
      "execution_count": 155,
      "outputs": [
        {
          "output_type": "display_data",
          "data": {
            "image/png": "[encoded data removed]",
            "text/plain": [
              "<Figure size 432x288 with 1 Axes>"
            ]
          },
          "metadata": {
            "tags": []
          }
        }
      ]
    },
    {
      "cell_type": "code",
      "metadata": {
        "colab": {
          "base_uri": "https://localhost:8080/"
        },
        "id": "nQOHCMxb2M5E",
        "outputId": "d31aaf98-89ff-4547-a949-d137ace97292"
      },
      "source": [
        "r2_score(y_real, y_pred)"
      ],
      "execution_count": 105,
      "outputs": [
        {
          "output_type": "execute_result",
          "data": {
            "text/plain": [
              "0.4654608255116778"
            ]
          },
          "metadata": {
            "tags": []
          },
          "execution_count": 105
        }
      ]
    },
    {
      "cell_type": "code",
      "metadata": {
        "colab": {
          "base_uri": "https://localhost:8080/"
        },
        "id": "CWaEOt8n29QB",
        "outputId": "9b8ea145-c3cf-4790-946f-c8f88dcb3618"
      },
      "source": [
        "mean_absolute_error(y_real, y_pred)"
      ],
      "execution_count": 106,
      "outputs": [
        {
          "output_type": "execute_result",
          "data": {
            "text/plain": [
              "0.08126124751377697"
            ]
          },
          "metadata": {
            "tags": []
          },
          "execution_count": 106
        }
      ]
    },
    {
      "cell_type": "code",
      "metadata": {
        "colab": {
          "base_uri": "https://localhost:8080/",
          "height": 341
        },
        "id": "9P4YTcrpkCjB",
        "outputId": "de4094b6-72ce-4ae0-a342-f87e979dfcef"
      },
      "source": [
        "shap_test = shap.TreeExplainer(grid_result.best_estimator_).shap_values(x)\n",
        "shap.summary_plot(shap_test, x, #features=[]\n",
        "                  max_display=25, auto_size_plot=True)"
      ],
      "execution_count": 108,
      "outputs": [
        {
          "output_type": "stream",
          "text": [
            "auto_size_plot=False is deprecated and is now ignored! Use plot_size=None instead.\n"
          ],
          "name": "stderr"
        },
        {
          "output_type": "display_data",
          "data": {
            "image/png": "[encoded data removed]",
            "text/plain": [
              "<Figure size 576x338.4 with 2 Axes>"
            ]
          },
          "metadata": {
            "tags": [],
            "needs_background": "light"
          }
        }
      ]
    },
    {
      "cell_type": "code",
      "metadata": {
        "id": "Za2lHMKFrBtD"
      },
      "source": [
        ""
      ],
      "execution_count": null,
      "outputs": []
    }
  ]
}